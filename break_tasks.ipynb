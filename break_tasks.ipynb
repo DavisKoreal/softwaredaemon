{
 "cells": [
  {
   "cell_type": "code",
   "execution_count": null,
   "metadata": {},
   "outputs": [
    {
     "ename": "",
     "evalue": "",
     "output_type": "error",
     "traceback": [
      "\u001b[1;31mRunning cells with 'Python 3.12.4' requires the ipykernel package.\n",
      "\u001b[1;31mRun the following command to install 'ipykernel' into the Python environment. \n",
      "\u001b[1;31mCommand: '/bin/python3.12 -m pip install ipykernel -U --user --force-reinstall'"
     ]
    }
   ],
   "source": [
    "#the question that is asked \n",
    "the_question = \"What is the list of subtasks for installing a python package?\"\n",
    "\n",
    "#the definition of the verb querry\n",
    "# IN English, a verb is an action word. IN the sentence I ansered the question, the verb is answered. Verbs indicate a \n",
    "#an action. They show that some state was changed in a story.\n",
    "#In programming, a verb is a function that changes the state of the program. In creative writing, a verb is a word \n",
    "#that changes the state of the story\n",
    "\n",
    "def query( question):\n",
    "    #send question\n",
    "    print(question)\n",
    "    #get answer\n",
    "    answer = input()\n",
    "    #return the asnwer\n",
    "    return answer\n",
    "\n",
    "the_answer = query(the_question)\n",
    "print(the_answer)\n",
    "\n",
    "\n"
   ]
  },
  {
   "cell_type": "code",
   "execution_count": null,
   "metadata": {},
   "outputs": [],
   "source": [
    "class task:\n",
    "    def __init__(self, name):\n",
    "        self.name = name\n",
    "        self.subtasks = []\n",
    "\n",
    "    def add_subtask(self, subtask):\n",
    "        sub_task_task = task(subtask)\n",
    "        self.subtasks.append(sub_task_task)\n",
    "\n",
    "    def fill_sub_tasks(self):\n",
    "        if len(self.subtasks) == 0:\n",
    "            atomic_task = input(\"Can the task \" + self.name + \" be broken down into smaller tasks? (yes/no)\")\n",
    "            if atomic_task == \"yes\":\n",
    "                number_of_subtasks = int(input(\"What are the number of tasks subtasks for \" + self.name))\n",
    "                for i in range(number_of_subtasks):\n",
    "                    subtask = input(\"What is the name of the subtask number \" + str(i) + \" for \" + self.name + \"?\")\n",
    "                    self.add_subtask(subtask)\n",
    "        \n",
    "        if len(self.subtasks) > 0:\n",
    "            for subtask in self.subtasks:\n",
    "                subtask.fill_sub_tasks()\n",
    "\n",
    "    def print_subtasks(self):\n",
    "        print(self.name)\n",
    "        for subtask in self.subtasks:\n",
    "            subtask.print_subtasks()\n",
    "\n",
    "    # flow is the functions that are called when the task is executed\n",
    "    def flow(self):\n",
    "        print(\"flow\")\n",
    "        self.fill_sub_tasks()\n",
    "        self.print_subtasks()\n",
    "        # execute the subtasks\n",
    "     \n"
   ]
  },
  {
   "cell_type": "code",
   "execution_count": null,
   "metadata": {},
   "outputs": [
    {
     "name": "stdout",
     "output_type": "stream",
     "text": [
      "test\n",
      "Play Lil Baby\n",
      "open tv\n",
      "open socket\n",
      "open tv using button\n",
      "wait for tv to start and connect hdmi\n",
      "open youtube app\n",
      "scroll to bottom left in list of apps\n",
      "press enter\n",
      "type in lil baby\n",
      "navigate to search bar\n",
      "type in each character of lil baby\n",
      "choose song and play\n",
      "scoll down to liked song\n",
      "chose song and press enter\n",
      "wait for song to play\n"
     ]
    }
   ],
   "source": [
    "playing_lilbaby = task(\"Play Lil Baby\")\n",
    "playing_lilbaby.flow()"
   ]
  },
  {
   "cell_type": "code",
   "execution_count": null,
   "metadata": {},
   "outputs": [
    {
     "name": "stdout",
     "output_type": "stream",
     "text": [
      "flow\n"
     ]
    }
   ],
   "source": [
    "opening_chrome:task = task(\"Open Chrome\")\n",
    "opening_chrome.flow()"
   ]
  }
 ],
 "metadata": {
  "kernelspec": {
   "display_name": "Python 3",
   "language": "python",
   "name": "python3"
  },
  "language_info": {
   "codemirror_mode": {
    "name": "ipython",
    "version": 3
   },
   "file_extension": ".py",
   "mimetype": "text/x-python",
   "name": "python",
   "nbconvert_exporter": "python",
   "pygments_lexer": "ipython3",
   "version": "3.10.12"
  }
 },
 "nbformat": 4,
 "nbformat_minor": 2
}
